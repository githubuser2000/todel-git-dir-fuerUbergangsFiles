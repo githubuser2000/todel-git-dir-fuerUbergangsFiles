{
 "cells": [
  {
   "cell_type": "code",
   "execution_count": 61,
   "id": "781906a2",
   "metadata": {},
   "outputs": [],
   "source": [
    "# 21,6,4,12,9,90"
   ]
  },
  {
   "cell_type": "code",
   "execution_count": 62,
   "id": "a4144461",
   "metadata": {},
   "outputs": [],
   "source": [
    "# selten: 11|13|14\n",
    "# S 1/16|1/21\n",
    "# hell: -3|2|-4|-7|-10|+10|12|17|(18)|(1/20)|21|(25)\n",
    "# R: 2,10,7,14,17,20,21,25\n",
    "# R: 1/6,1/3,1/12,1/19,1/20,1/26"
   ]
  },
  {
   "cell_type": "code",
   "execution_count": 63,
   "id": "1c08c657",
   "metadata": {},
   "outputs": [],
   "source": [
    "from fractions import Fraction\n",
    "s={2,3,10,7,4,6,11,16,18,21,Fraction(1,21),Fraction(1,16),Fraction(1,26),Fraction(1,20)}\n",
    "r={Fraction(1,6),Fraction(1,3),Fraction(1,12),Fraction(1,19),Fraction(1,20),Fraction(1,26),3,7,10,17,20,21}\n",
    "hell={3,2,4,7,10,12,17,21,Fraction(1,16),Fraction(1,21),11}"
   ]
  },
  {
   "cell_type": "code",
   "execution_count": 65,
   "id": "9c689c70",
   "metadata": {},
   "outputs": [
    {
     "data": {
      "text/plain": [
       "({Fraction(1, 19), Fraction(1, 12), Fraction(1, 6), Fraction(1, 3), 17, 20},\n",
       " {Fraction(1, 21), Fraction(1, 16), 2, 4, 6, 11, 16, 18})"
      ]
     },
     "execution_count": 65,
     "metadata": {},
     "output_type": "execute_result"
    }
   ],
   "source": [
    "r - s, s - r"
   ]
  },
  {
   "cell_type": "code",
   "execution_count": 66,
   "id": "e3d39d34",
   "metadata": {},
   "outputs": [],
   "source": [
    "# R: Strom + Adapter, Familie, 14, 1/(3*[1;2;4]),1/19\n",
    "# beide: Entscheidung, 10, 21, Sprache\n",
    "# S: 18,11,4,"
   ]
  },
  {
   "cell_type": "code",
   "execution_count": 67,
   "id": "22749bc6",
   "metadata": {},
   "outputs": [
    {
     "data": {
      "text/plain": [
       "{Fraction(1, 26), Fraction(1, 20), 3, 7, 10, 21}"
      ]
     },
     "execution_count": 67,
     "metadata": {},
     "output_type": "execute_result"
    }
   ],
   "source": [
    "# Kombi == Vereinigungsmenge, und disjunkte menge erst durch die 13. mit 9. ? Und Schnittmenge - wohl erst durch die 9, weil diese über einheitlichkeit ist.\n",
    "# d.h. 14 mit [nichts weiter;13 mit 9;9]\n",
    "# d.h. für Problemlösung der Einheitlichkeit: Schnittmenge:\n",
    "r & s"
   ]
  },
  {
   "cell_type": "code",
   "execution_count": 68,
   "id": "6d3da813",
   "metadata": {},
   "outputs": [],
   "source": [
    "# 7m3: die Bezugnahme\n",
    "# 1/26 würdig für Helfer sein können\n",
    "# schöngeistigkeit\n",
    "# "
   ]
  },
  {
   "cell_type": "code",
   "execution_count": 69,
   "id": "0d5bfba2",
   "metadata": {},
   "outputs": [
    {
     "data": {
      "text/plain": [
       "{Fraction(1, 21),\n",
       " Fraction(1, 19),\n",
       " Fraction(1, 16),\n",
       " Fraction(1, 12),\n",
       " Fraction(1, 6),\n",
       " Fraction(1, 3),\n",
       " 2,\n",
       " 4,\n",
       " 6,\n",
       " 11,\n",
       " 16,\n",
       " 17,\n",
       " 18,\n",
       " 20}"
      ]
     },
     "execution_count": 69,
     "metadata": {},
     "output_type": "execute_result"
    }
   ],
   "source": [
    "# Problem-Lösungs-Verhinderung der Einheitlichkeit: disjunkt:\n",
    "(r | s) - (s & r)"
   ]
  },
  {
   "cell_type": "code",
   "execution_count": 70,
   "id": "7c2470bc",
   "metadata": {},
   "outputs": [],
   "source": [
    "# d.h. weniger: 17,20,11,6,2,4,1/19,1/(3*[1;2;4])"
   ]
  },
  {
   "cell_type": "code",
   "execution_count": null,
   "id": "355bbfcb",
   "metadata": {},
   "outputs": [],
   "source": []
  }
 ],
 "metadata": {
  "kernelspec": {
   "display_name": "Python 3 (ipykernel)",
   "language": "python",
   "name": "python3"
  },
  "language_info": {
   "codemirror_mode": {
    "name": "ipython",
    "version": 3
   },
   "file_extension": ".py",
   "mimetype": "text/x-python",
   "name": "python",
   "nbconvert_exporter": "python",
   "pygments_lexer": "ipython3",
   "version": "3.10.10"
  }
 },
 "nbformat": 4,
 "nbformat_minor": 5
}
