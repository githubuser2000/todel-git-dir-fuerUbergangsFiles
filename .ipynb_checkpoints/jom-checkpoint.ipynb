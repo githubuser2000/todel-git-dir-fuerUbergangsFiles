{
 "cells": [
  {
   "cell_type": "code",
   "execution_count": 1,
   "id": "3fa2c711",
   "metadata": {},
   "outputs": [],
   "source": [
    " from bruch4reta import bruchSpalt"
   ]
  },
  {
   "cell_type": "code",
   "execution_count": 2,
   "id": "90dc338c",
   "metadata": {},
   "outputs": [
    {
     "data": {
      "text/plain": [
       "([[{0: '1'}], [{0: '2'}]], [{}, [{0: '1'}, {0: '2'}], {}])"
      ]
     },
     "execution_count": 2,
     "metadata": {},
     "output_type": "execute_result"
    }
   ],
   "source": [
    "bruchSpalt(\"1/2\")"
   ]
  },
  {
   "cell_type": "code",
   "execution_count": 3,
   "id": "14a14f0e",
   "metadata": {},
   "outputs": [
    {
     "data": {
      "text/plain": [
       "([[{}, {0: 'a'}, {1: '1'}], [{0: '2'}]], [{0: 'a'}, [{1: '1'}, {0: '2'}], {}])"
      ]
     },
     "execution_count": 3,
     "metadata": {},
     "output_type": "execute_result"
    }
   ],
   "source": [
    "bruchSpalt(\"a1/2\")"
   ]
  },
  {
   "cell_type": "code",
   "execution_count": 4,
   "id": "b9831c77",
   "metadata": {},
   "outputs": [
    {
     "data": {
      "text/plain": [
       "([[{0: '1'}], [{0: '2'}, {1: 'b'}, {}]], [{}, [{0: '1'}, {0: '2'}], {1: 'b'}])"
      ]
     },
     "execution_count": 4,
     "metadata": {},
     "output_type": "execute_result"
    }
   ],
   "source": [
    "bruchSpalt(\"1/2b\")"
   ]
  },
  {
   "cell_type": "code",
   "execution_count": 5,
   "id": "36a68ff0",
   "metadata": {},
   "outputs": [
    {
     "data": {
      "text/plain": [
       "([[{}, {0: 'a', 1: 'b'}, {2: '1'}], [{0: '2'}, {1: 'c', 2: 'd'}, {}]],\n",
       " [{0: 'a', 1: 'b'}, [{2: '1'}, {0: '2'}], {1: 'c', 2: 'd'}])"
      ]
     },
     "execution_count": 5,
     "metadata": {},
     "output_type": "execute_result"
    }
   ],
   "source": [
    "bruchSpalt(\"ab1/2cd\")"
   ]
  },
  {
   "cell_type": "code",
   "execution_count": 6,
   "id": "671e35da",
   "metadata": {},
   "outputs": [
    {
     "data": {
      "text/plain": [
       "([[{0: '1'}], [{0: '2'}, {1: 'a'}, {2: '3'}], [{0: '4'}]],\n",
       " [{}, [{0: '1'}, {0: '2'}], {1: 'a'}, [{2: '3'}, {0: '4'}], {}])"
      ]
     },
     "execution_count": 6,
     "metadata": {},
     "output_type": "execute_result"
    }
   ],
   "source": [
    "bruchSpalt(\"1/2a3/4\")"
   ]
  },
  {
   "cell_type": "code",
   "execution_count": 7,
   "id": "78614838",
   "metadata": {},
   "outputs": [
    {
     "data": {
      "text/plain": [
       "([[{}, {0: 'a'}, {1: '1'}], [{0: '2'}, {1: 'b'}, {2: '3'}], [{0: '4'}]],\n",
       " [{0: 'a'}, [{1: '1'}, {0: '2'}], {1: 'b'}, [{2: '3'}, {0: '4'}], {}])"
      ]
     },
     "execution_count": 7,
     "metadata": {},
     "output_type": "execute_result"
    }
   ],
   "source": [
    "bruchSpalt(\"a1/2b3/4\")"
   ]
  },
  {
   "cell_type": "code",
   "execution_count": 8,
   "id": "2e8aede7",
   "metadata": {},
   "outputs": [
    {
     "data": {
      "text/plain": [
       "([[{}, {0: 'a'}, {1: '1'}],\n",
       "  [{0: '2'}, {1: 'b'}, {2: '3'}],\n",
       "  [{0: '4'}, {1: 'c'}, {}]],\n",
       " [{0: 'a'}, [{1: '1'}, {0: '2'}], {1: 'b'}, [{2: '3'}, {0: '4'}], {1: 'c'}])"
      ]
     },
     "execution_count": 8,
     "metadata": {},
     "output_type": "execute_result"
    }
   ],
   "source": [
    "bruchSpalt(\"a1/2b3/4c\")"
   ]
  },
  {
   "cell_type": "code",
   "execution_count": 9,
   "id": "90428ea2",
   "metadata": {},
   "outputs": [
    {
     "data": {
      "text/plain": [
       "([[{0: '1'}], [{0: '2'}, {1: 'b'}, {2: '3'}], [{0: '4'}, {1: 'c'}, {}]],\n",
       " [{}, [{0: '1'}, {0: '2'}], {1: 'b'}, [{2: '3'}, {0: '4'}], {1: 'c'}])"
      ]
     },
     "execution_count": 9,
     "metadata": {},
     "output_type": "execute_result"
    }
   ],
   "source": [
    "bruchSpalt(\"1/2b3/4c\")"
   ]
  },
  {
   "cell_type": "code",
   "execution_count": 10,
   "id": "32dd6580",
   "metadata": {},
   "outputs": [
    {
     "data": {
      "text/plain": [
       "[]"
      ]
     },
     "execution_count": 10,
     "metadata": {},
     "output_type": "execute_result"
    }
   ],
   "source": [
    "bruchSpalt(\"a1/23/4b\")"
   ]
  },
  {
   "cell_type": "code",
   "execution_count": 11,
   "id": "67af4490",
   "metadata": {},
   "outputs": [
    {
     "data": {
      "text/plain": [
       "[]"
      ]
     },
     "execution_count": 11,
     "metadata": {},
     "output_type": "execute_result"
    }
   ],
   "source": [
    "bruchSpalt(\"a1/2b3/4c5\")"
   ]
  },
  {
   "cell_type": "code",
   "execution_count": 12,
   "id": "f4df7f2d",
   "metadata": {},
   "outputs": [
    {
     "data": {
      "text/plain": [
       "[]"
      ]
     },
     "execution_count": 12,
     "metadata": {},
     "output_type": "execute_result"
    }
   ],
   "source": [
    "bruchSpalt(\"2\")"
   ]
  },
  {
   "cell_type": "code",
   "execution_count": 14,
   "id": "210063f7",
   "metadata": {},
   "outputs": [
    {
     "data": {
      "text/plain": [
       "([[{0: '1'}], [{0: '2'}, {1: 'b'}, {2: '3'}], [{0: '4'}, {1: 'c'}, {}]],\n",
       " [{}, [{0: '1'}, {0: '2'}], {1: 'b'}, [{2: '3'}, {0: '4'}], {1: 'c'}])"
      ]
     },
     "execution_count": 14,
     "metadata": {},
     "output_type": "execute_result"
    }
   ],
   "source": [
    "bruchSpalt(\"1/2b3/4c\")"
   ]
  },
  {
   "cell_type": "code",
   "execution_count": 15,
   "id": "c9f02a51",
   "metadata": {},
   "outputs": [
    {
     "data": {
      "text/plain": [
       "([[{0: '1'}],\n",
       "  [{0: '2'}, {1: 'b'}, {2: '3'}],\n",
       "  [{0: '4'}, {1: 'c'}, {2: '5'}],\n",
       "  [{0: '6'}]],\n",
       " [{},\n",
       "  [{0: '1'}, {0: '2'}],\n",
       "  {1: 'b'},\n",
       "  [{2: '3'}, {0: '4'}],\n",
       "  {1: 'c'},\n",
       "  [{2: '5'}, {0: '6'}],\n",
       "  {}])"
      ]
     },
     "execution_count": 15,
     "metadata": {},
     "output_type": "execute_result"
    }
   ],
   "source": [
    "bruchSpalt(\"1/2b3/4c5/6\")"
   ]
  },
  {
   "cell_type": "code",
   "execution_count": 16,
   "id": "635864f8",
   "metadata": {},
   "outputs": [
    {
     "data": {
      "text/plain": [
       "([[{}, {0: 'a'}, {1: '1'}],\n",
       "  [{0: '2'}, {1: 'b'}, {2: '3'}],\n",
       "  [{0: '4'}, {1: 'c'}, {2: '5'}],\n",
       "  [{0: '6'}]],\n",
       " [{0: 'a'},\n",
       "  [{1: '1'}, {0: '2'}],\n",
       "  {1: 'b'},\n",
       "  [{2: '3'}, {0: '4'}],\n",
       "  {1: 'c'},\n",
       "  [{2: '5'}, {0: '6'}],\n",
       "  {}])"
      ]
     },
     "execution_count": 16,
     "metadata": {},
     "output_type": "execute_result"
    }
   ],
   "source": [
    "bruchSpalt(\"a1/2b3/4c5/6\")"
   ]
  },
  {
   "cell_type": "code",
   "execution_count": 17,
   "id": "23b48e0e",
   "metadata": {},
   "outputs": [
    {
     "data": {
      "text/plain": [
       "([[{0: '1'}],\n",
       "  [{0: '2'}, {1: 'b'}, {2: '3'}],\n",
       "  [{0: '4'}, {1: 'c'}, {2: '5'}],\n",
       "  [{0: '6'}, {1: 'd'}, {}]],\n",
       " [{},\n",
       "  [{0: '1'}, {0: '2'}],\n",
       "  {1: 'b'},\n",
       "  [{2: '3'}, {0: '4'}],\n",
       "  {1: 'c'},\n",
       "  [{2: '5'}, {0: '6'}],\n",
       "  {1: 'd'}])"
      ]
     },
     "execution_count": 17,
     "metadata": {},
     "output_type": "execute_result"
    }
   ],
   "source": [
    "bruchSpalt(\"1/2b3/4c5/6d\")"
   ]
  },
  {
   "cell_type": "code",
   "execution_count": 19,
   "id": "a439da75",
   "metadata": {},
   "outputs": [
    {
     "data": {
      "text/plain": [
       "([[{}, {0: 'a', 1: 'x'}, {2: '1'}],\n",
       "  [{0: '2'}, {1: 'b', 2: 'x'}, {3: '3'}],\n",
       "  [{0: '4'}, {1: 'c', 2: 'x'}, {3: '5'}],\n",
       "  [{0: '6'}, {1: 'd', 2: 'x'}, {}]],\n",
       " [{0: 'a', 1: 'x'},\n",
       "  [{2: '1'}, {0: '2'}],\n",
       "  {1: 'b', 2: 'x'},\n",
       "  [{3: '3'}, {0: '4'}],\n",
       "  {1: 'c', 2: 'x'},\n",
       "  [{3: '5'}, {0: '6'}],\n",
       "  {1: 'd', 2: 'x'}])"
      ]
     },
     "execution_count": 19,
     "metadata": {},
     "output_type": "execute_result"
    }
   ],
   "source": [
    "bruchSpalt(\"ax1/2bx3/4cx5/6dx\")"
   ]
  },
  {
   "cell_type": "code",
   "execution_count": null,
   "id": "e6a7cb75",
   "metadata": {},
   "outputs": [],
   "source": []
  }
 ],
 "metadata": {
  "kernelspec": {
   "display_name": "Python 3 (ipykernel)",
   "language": "python",
   "name": "python3"
  },
  "language_info": {
   "codemirror_mode": {
    "name": "ipython",
    "version": 3
   },
   "file_extension": ".py",
   "mimetype": "text/x-python",
   "name": "python",
   "nbconvert_exporter": "python",
   "pygments_lexer": "ipython3",
   "version": "3.10.10"
  }
 },
 "nbformat": 4,
 "nbformat_minor": 5
}
