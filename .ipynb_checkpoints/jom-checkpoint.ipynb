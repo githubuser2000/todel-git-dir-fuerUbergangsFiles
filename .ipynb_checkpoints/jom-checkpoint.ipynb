{
 "cells": [
  {
   "cell_type": "code",
   "execution_count": 1,
   "id": "07ad5b15",
   "metadata": {},
   "outputs": [],
   "source": [
    " from bruch4reta import bruchSpalt"
   ]
  },
  {
   "cell_type": "code",
   "execution_count": 2,
   "id": "025918cc",
   "metadata": {},
   "outputs": [
    {
     "data": {
      "text/plain": [
       "[(), [odict_values(['1']), odict_values(['2'])], ()]"
      ]
     },
     "execution_count": 2,
     "metadata": {},
     "output_type": "execute_result"
    }
   ],
   "source": [
    "bruchSpalt(\"1/2\")"
   ]
  },
  {
   "cell_type": "code",
   "execution_count": 3,
   "id": "716d0025",
   "metadata": {},
   "outputs": [
    {
     "data": {
      "text/plain": [
       "[odict_values(['a']), [odict_values(['1']), odict_values(['2'])], ()]"
      ]
     },
     "execution_count": 3,
     "metadata": {},
     "output_type": "execute_result"
    }
   ],
   "source": [
    "bruchSpalt(\"a1/2\")"
   ]
  },
  {
   "cell_type": "code",
   "execution_count": 4,
   "id": "1eaa6400",
   "metadata": {},
   "outputs": [
    {
     "data": {
      "text/plain": [
       "[(), [odict_values(['1']), odict_values(['2'])], odict_values(['b'])]"
      ]
     },
     "execution_count": 4,
     "metadata": {},
     "output_type": "execute_result"
    }
   ],
   "source": [
    "bruchSpalt(\"1/2b\")"
   ]
  },
  {
   "cell_type": "code",
   "execution_count": 5,
   "id": "3d766ff1",
   "metadata": {},
   "outputs": [
    {
     "data": {
      "text/plain": [
       "[odict_values(['a', 'b']),\n",
       " [odict_values(['1']), odict_values(['2'])],\n",
       " odict_values(['c', 'd'])]"
      ]
     },
     "execution_count": 5,
     "metadata": {},
     "output_type": "execute_result"
    }
   ],
   "source": [
    "bruchSpalt(\"ab1/2cd\")"
   ]
  },
  {
   "cell_type": "code",
   "execution_count": 6,
   "id": "1d25d662",
   "metadata": {},
   "outputs": [
    {
     "data": {
      "text/plain": [
       "[(),\n",
       " [odict_values(['1']), odict_values(['2'])],\n",
       " odict_values(['a']),\n",
       " [odict_values(['3']), odict_values(['4'])],\n",
       " ()]"
      ]
     },
     "execution_count": 6,
     "metadata": {},
     "output_type": "execute_result"
    }
   ],
   "source": [
    "bruchSpalt(\"1/2a3/4\")"
   ]
  },
  {
   "cell_type": "code",
   "execution_count": 7,
   "id": "d3f1f9a4",
   "metadata": {},
   "outputs": [
    {
     "data": {
      "text/plain": [
       "[odict_values(['a']),\n",
       " [odict_values(['1']), odict_values(['2'])],\n",
       " odict_values(['b']),\n",
       " [odict_values(['3']), odict_values(['4'])],\n",
       " ()]"
      ]
     },
     "execution_count": 7,
     "metadata": {},
     "output_type": "execute_result"
    }
   ],
   "source": [
    "bruchSpalt(\"a1/2b3/4\")"
   ]
  },
  {
   "cell_type": "code",
   "execution_count": 8,
   "id": "1f534d90",
   "metadata": {},
   "outputs": [
    {
     "data": {
      "text/plain": [
       "[odict_values(['a']),\n",
       " [odict_values(['1']), odict_values(['2'])],\n",
       " odict_values(['b']),\n",
       " [odict_values(['3']), odict_values(['4'])],\n",
       " odict_values(['c'])]"
      ]
     },
     "execution_count": 8,
     "metadata": {},
     "output_type": "execute_result"
    }
   ],
   "source": [
    "bruchSpalt(\"a1/2b3/4c\")"
   ]
  },
  {
   "cell_type": "code",
   "execution_count": 9,
   "id": "23c40b4f",
   "metadata": {},
   "outputs": [
    {
     "data": {
      "text/plain": [
       "[(),\n",
       " [odict_values(['1']), odict_values(['2'])],\n",
       " odict_values(['b']),\n",
       " [odict_values(['3']), odict_values(['4'])],\n",
       " odict_values(['c'])]"
      ]
     },
     "execution_count": 9,
     "metadata": {},
     "output_type": "execute_result"
    }
   ],
   "source": [
    "bruchSpalt(\"1/2b3/4c\")"
   ]
  },
  {
   "cell_type": "code",
   "execution_count": 10,
   "id": "bd42bcb0",
   "metadata": {},
   "outputs": [
    {
     "data": {
      "text/plain": [
       "[]"
      ]
     },
     "execution_count": 10,
     "metadata": {},
     "output_type": "execute_result"
    }
   ],
   "source": [
    "bruchSpalt(\"a1/23/4b\")"
   ]
  },
  {
   "cell_type": "code",
   "execution_count": 11,
   "id": "e1869880",
   "metadata": {},
   "outputs": [
    {
     "data": {
      "text/plain": [
       "[]"
      ]
     },
     "execution_count": 11,
     "metadata": {},
     "output_type": "execute_result"
    }
   ],
   "source": [
    "bruchSpalt(\"a1/2b3/4c5\")"
   ]
  },
  {
   "cell_type": "code",
   "execution_count": 12,
   "id": "f308d6f5",
   "metadata": {},
   "outputs": [
    {
     "data": {
      "text/plain": [
       "[]"
      ]
     },
     "execution_count": 12,
     "metadata": {},
     "output_type": "execute_result"
    }
   ],
   "source": [
    "bruchSpalt(\"2\")"
   ]
  },
  {
   "cell_type": "code",
   "execution_count": 13,
   "id": "192ad5c1",
   "metadata": {},
   "outputs": [
    {
     "data": {
      "text/plain": [
       "[(),\n",
       " [odict_values(['1']), odict_values(['2'])],\n",
       " odict_values(['b']),\n",
       " [odict_values(['3']), odict_values(['4'])],\n",
       " odict_values(['c'])]"
      ]
     },
     "execution_count": 13,
     "metadata": {},
     "output_type": "execute_result"
    }
   ],
   "source": [
    "bruchSpalt(\"1/2b3/4c\")"
   ]
  },
  {
   "cell_type": "code",
   "execution_count": 14,
   "id": "540c0c44",
   "metadata": {},
   "outputs": [
    {
     "data": {
      "text/plain": [
       "[(),\n",
       " [odict_values(['1']), odict_values(['2'])],\n",
       " odict_values(['b']),\n",
       " [odict_values(['3']), odict_values(['4'])],\n",
       " odict_values(['c']),\n",
       " [odict_values(['5']), odict_values(['6'])],\n",
       " ()]"
      ]
     },
     "execution_count": 14,
     "metadata": {},
     "output_type": "execute_result"
    }
   ],
   "source": [
    "bruchSpalt(\"1/2b3/4c5/6\")"
   ]
  },
  {
   "cell_type": "code",
   "execution_count": 15,
   "id": "4516d0ed",
   "metadata": {},
   "outputs": [
    {
     "data": {
      "text/plain": [
       "[odict_values(['a']),\n",
       " [odict_values(['1']), odict_values(['2'])],\n",
       " odict_values(['b']),\n",
       " [odict_values(['3']), odict_values(['4'])],\n",
       " odict_values(['c']),\n",
       " [odict_values(['5']), odict_values(['6'])],\n",
       " ()]"
      ]
     },
     "execution_count": 15,
     "metadata": {},
     "output_type": "execute_result"
    }
   ],
   "source": [
    "bruchSpalt(\"a1/2b3/4c5/6\")"
   ]
  },
  {
   "cell_type": "code",
   "execution_count": 16,
   "id": "f8ffe72b",
   "metadata": {},
   "outputs": [
    {
     "data": {
      "text/plain": [
       "[(),\n",
       " [odict_values(['1']), odict_values(['2'])],\n",
       " odict_values(['b']),\n",
       " [odict_values(['3']), odict_values(['4'])],\n",
       " odict_values(['c']),\n",
       " [odict_values(['5']), odict_values(['6'])],\n",
       " odict_values(['d'])]"
      ]
     },
     "execution_count": 16,
     "metadata": {},
     "output_type": "execute_result"
    }
   ],
   "source": [
    "bruchSpalt(\"1/2b3/4c5/6d\")"
   ]
  },
  {
   "cell_type": "code",
   "execution_count": 17,
   "id": "c8c3d5da",
   "metadata": {},
   "outputs": [
    {
     "data": {
      "text/plain": [
       "[odict_values(['a', 'x']),\n",
       " [odict_values(['1']), odict_values(['2'])],\n",
       " odict_values(['b', 'x']),\n",
       " [odict_values(['3']), odict_values(['4'])],\n",
       " odict_values(['c', 'x']),\n",
       " [odict_values(['5']), odict_values(['6'])],\n",
       " odict_values(['d', 'x'])]"
      ]
     },
     "execution_count": 17,
     "metadata": {},
     "output_type": "execute_result"
    }
   ],
   "source": [
    "bruchSpalt(\"ax1/2bx3/4cx5/6dx\")"
   ]
  },
  {
   "cell_type": "code",
   "execution_count": null,
   "id": "e6e115ec",
   "metadata": {},
   "outputs": [],
   "source": []
  }
 ],
 "metadata": {
  "kernelspec": {
   "display_name": "Python 3 (ipykernel)",
   "language": "python",
   "name": "python3"
  },
  "language_info": {
   "codemirror_mode": {
    "name": "ipython",
    "version": 3
   },
   "file_extension": ".py",
   "mimetype": "text/x-python",
   "name": "python",
   "nbconvert_exporter": "python",
   "pygments_lexer": "ipython3",
   "version": "3.10.10"
  }
 },
 "nbformat": 4,
 "nbformat_minor": 5
}
