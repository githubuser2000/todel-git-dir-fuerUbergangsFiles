{
 "cells": [
  {
   "cell_type": "code",
   "execution_count": 1,
   "id": "ee4243a1",
   "metadata": {},
   "outputs": [],
   "source": [
    " from bruch4reta import bruchSpalt,alles,createRangesForBruchLists"
   ]
  },
  {
   "cell_type": "code",
   "execution_count": 2,
   "id": "d3269d3b",
   "metadata": {},
   "outputs": [
    {
     "data": {
      "text/plain": [
       "[(), ('1', '2'), ()]"
      ]
     },
     "execution_count": 2,
     "metadata": {},
     "output_type": "execute_result"
    }
   ],
   "source": [
    "bruchSpalt(\"1/2\")"
   ]
  },
  {
   "cell_type": "code",
   "execution_count": 3,
   "id": "ae8aa7ff",
   "metadata": {},
   "outputs": [
    {
     "data": {
      "text/plain": [
       "[('a',), ('1', '2'), ()]"
      ]
     },
     "execution_count": 3,
     "metadata": {},
     "output_type": "execute_result"
    }
   ],
   "source": [
    "bruchSpalt(\"a1/2\")"
   ]
  },
  {
   "cell_type": "code",
   "execution_count": 4,
   "id": "4933314a",
   "metadata": {},
   "outputs": [
    {
     "data": {
      "text/plain": [
       "[(), ('1', '2'), ('b',)]"
      ]
     },
     "execution_count": 4,
     "metadata": {},
     "output_type": "execute_result"
    }
   ],
   "source": [
    "bruchSpalt(\"1/2b\")"
   ]
  },
  {
   "cell_type": "code",
   "execution_count": 5,
   "id": "8c3ced67",
   "metadata": {},
   "outputs": [
    {
     "data": {
      "text/plain": [
       "[('a', 'b'), ('1', '2'), ('c', 'd')]"
      ]
     },
     "execution_count": 5,
     "metadata": {},
     "output_type": "execute_result"
    }
   ],
   "source": [
    "bruchSpalt(\"ab1/2cd\")"
   ]
  },
  {
   "cell_type": "code",
   "execution_count": 6,
   "id": "3cf9fa97",
   "metadata": {},
   "outputs": [
    {
     "data": {
      "text/plain": [
       "[(), ('1', '2'), ('a',), ('3', '4'), ()]"
      ]
     },
     "execution_count": 6,
     "metadata": {},
     "output_type": "execute_result"
    }
   ],
   "source": [
    "bruchSpalt(\"1/2a3/4\")"
   ]
  },
  {
   "cell_type": "code",
   "execution_count": 7,
   "id": "c87b93e1",
   "metadata": {},
   "outputs": [
    {
     "data": {
      "text/plain": [
       "[('a',), ('1', '2'), ('b',), ('3', '4'), ()]"
      ]
     },
     "execution_count": 7,
     "metadata": {},
     "output_type": "execute_result"
    }
   ],
   "source": [
    "bruchSpalt(\"a1/2b3/4\")"
   ]
  },
  {
   "cell_type": "code",
   "execution_count": 8,
   "id": "6afcaea1",
   "metadata": {},
   "outputs": [
    {
     "data": {
      "text/plain": [
       "[('a',), ('1', '2'), ('b',), ('3', '4'), ('c',)]"
      ]
     },
     "execution_count": 8,
     "metadata": {},
     "output_type": "execute_result"
    }
   ],
   "source": [
    "bruchSpalt(\"a1/2b3/4c\")"
   ]
  },
  {
   "cell_type": "code",
   "execution_count": 9,
   "id": "20f7fb73",
   "metadata": {},
   "outputs": [
    {
     "data": {
      "text/plain": [
       "[(), ('1', '2'), ('b',), ('3', '4'), ('c',)]"
      ]
     },
     "execution_count": 9,
     "metadata": {},
     "output_type": "execute_result"
    }
   ],
   "source": [
    "bruchSpalt(\"1/2b3/4c\")"
   ]
  },
  {
   "cell_type": "code",
   "execution_count": 10,
   "id": "7a061ef7",
   "metadata": {},
   "outputs": [
    {
     "data": {
      "text/plain": [
       "[]"
      ]
     },
     "execution_count": 10,
     "metadata": {},
     "output_type": "execute_result"
    }
   ],
   "source": [
    "bruchSpalt(\"a1/23/4b\")"
   ]
  },
  {
   "cell_type": "code",
   "execution_count": 11,
   "id": "0834aad7",
   "metadata": {},
   "outputs": [
    {
     "data": {
      "text/plain": [
       "[]"
      ]
     },
     "execution_count": 11,
     "metadata": {},
     "output_type": "execute_result"
    }
   ],
   "source": [
    "bruchSpalt(\"a1/2b3/4c5\")"
   ]
  },
  {
   "cell_type": "code",
   "execution_count": 12,
   "id": "b0790647",
   "metadata": {},
   "outputs": [
    {
     "data": {
      "text/plain": [
       "[]"
      ]
     },
     "execution_count": 12,
     "metadata": {},
     "output_type": "execute_result"
    }
   ],
   "source": [
    "bruchSpalt(\"2\")"
   ]
  },
  {
   "cell_type": "code",
   "execution_count": 13,
   "id": "808b2456",
   "metadata": {},
   "outputs": [
    {
     "data": {
      "text/plain": [
       "[(), ('1', '2'), ('b',), ('3', '4'), ('c',)]"
      ]
     },
     "execution_count": 13,
     "metadata": {},
     "output_type": "execute_result"
    }
   ],
   "source": [
    "bruchSpalt(\"1/2b3/4c\")"
   ]
  },
  {
   "cell_type": "code",
   "execution_count": 14,
   "id": "4d80e3e0",
   "metadata": {},
   "outputs": [
    {
     "data": {
      "text/plain": [
       "[(), ('1', '2'), ('b',), ('3', '4'), ('c',), ('5', '6'), ()]"
      ]
     },
     "execution_count": 14,
     "metadata": {},
     "output_type": "execute_result"
    }
   ],
   "source": [
    "bruchSpalt(\"1/2b3/4c5/6\")"
   ]
  },
  {
   "cell_type": "code",
   "execution_count": 15,
   "id": "712ea9b0",
   "metadata": {},
   "outputs": [
    {
     "data": {
      "text/plain": [
       "[('a',), ('1', '2'), ('b',), ('3', '4'), ('c',), ('5', '6'), ()]"
      ]
     },
     "execution_count": 15,
     "metadata": {},
     "output_type": "execute_result"
    }
   ],
   "source": [
    "bruchSpalt(\"a1/2b3/4c5/6\")"
   ]
  },
  {
   "cell_type": "code",
   "execution_count": 16,
   "id": "e98c0bd9",
   "metadata": {},
   "outputs": [
    {
     "data": {
      "text/plain": [
       "[(), ('1', '2'), ('b',), ('3', '4'), ('c',), ('5', '6'), ('d',)]"
      ]
     },
     "execution_count": 16,
     "metadata": {},
     "output_type": "execute_result"
    }
   ],
   "source": [
    "bruchSpalt(\"1/2b3/4c5/6d\")"
   ]
  },
  {
   "cell_type": "code",
   "execution_count": 17,
   "id": "f632955b",
   "metadata": {},
   "outputs": [
    {
     "data": {
      "text/plain": [
       "[('a', 'x'),\n",
       " ('1', '2'),\n",
       " ('b', 'x'),\n",
       " ('3', '4'),\n",
       " ('c', 'x'),\n",
       " ('5', '6'),\n",
       " ('d', 'x')]"
      ]
     },
     "execution_count": 17,
     "metadata": {},
     "output_type": "execute_result"
    }
   ],
   "source": [
    "bruchSpalt(\"ax1/2bx3/4cx5/6dx\")"
   ]
  },
  {
   "cell_type": "markdown",
   "id": "1f469a95",
   "metadata": {},
   "source": [
    "## Was als nächstes programmiert werden sollte\n",
    "1. Als nächstes steht Funktion an: createRangesForBruchLists\n",
    "   1. Dort werden aus dem Ergebnis von bruchSpalt die Brüche entnommen und von diesen Ranges gebildet.\n",
    "       Das soll aber nur geschehen, wenn zwischen diesen Brüchen als Textzeichen ein Zeichen war, und zwar ein Minus.\n",
    "   2. Das Ergebnis soll mit den bisherigen Textwert zu mehreren neuen Textwerten zusammengefügt werden. Wie?\n",
    "       Es entstehen daraus ja nun 2 Ranges und bilden ein Quadrat.\n",
    "       Eine Range, die nach unten geht, wird verwendet um aus der einen Ursprungszeile mehrere zu machen.\n",
    "       Die andere Range wird als bloßer Text als Range geprintet.\n",
    "       Beispiel: aus \"a1/2-3/4b\" wird 1:\"a2-4b\",2:\"a2-4b\",3:\"a2-4b\"\n",
    "       Damit ist das nicht mehr eine Liste aus Tupeln, sondern eine Liste aus Strings\n",
    "2. Eine neue Funktion wird dann dazu verwendet, dass diese Strings auf einen regex und mehr verifiziert werden.\n",
    "   Das sollte dann wohl besser im Feature Branch von ReTa implementiert werden.\n",
    "3. In ReTa sollte aus reta.py abgegriffen werden, welcher Zahlenbereich erlaubt ist für die Abfrage von Brüchen\n",
    "   In diesem Zahlenbereich sollte von 2:\"a2-4b\" die 2 liegen.\n",
    "   Dafür sollte eine Funktion programmiert werden, die das verifiziert.\n",
    "4. In ReTa-Prompt soll man nun einen Bereich eingeben können von nicht nur Ganz-Zahlen, sondern von diesem Bruch, also etwas verwirrend komplexes.\n",
    "   1. Dann wird das als solches erkannt und der Funktion bruchSpalt übergeben.\n",
    "   2. Wenn die Funktion bruchSpalt das verwerten kann, dann macht createRangesForBruchLists daraus mehrere Strings, die verifiziert werden.\n",
    "   3. Dann gibt es eine Liste aus Paaren mit Bereichsangabe und einer Zahl.\n",
    "      Diese werden verwertet in einem ReTa Befehl, der Bruchbereiche ausgibt.\n",
    "      fertig."
   ]
  },
  {
   "cell_type": "code",
   "execution_count": 8,
   "id": "906cc317",
   "metadata": {},
   "outputs": [
    {
     "data": {
      "text/plain": [
       "(range(1, 3), '-2-3-')"
      ]
     },
     "execution_count": 8,
     "metadata": {},
     "output_type": "execute_result"
    }
   ],
   "source": [
    "alles(\"-1/2-2/3-\")"
   ]
  },
  {
   "cell_type": "markdown",
   "id": "8247e20c",
   "metadata": {},
   "source": [
    "## Es ist nun in reta eingebaut und läuft und hat wohl noch Fehler. Was muss ich testen?\n",
    "1. der Bereich, ob der alles richtig betrifft\n",
    "  1. von bis\n",
    "  2. Plus-Syntax\n",
    "  3. Kombi von Bereich und Plus-Syntax\n",
    "  4. Mehrere Plus-Syntax\n",
    "  5. Bereich mit mehreren Plus-Syntax\n",
    "  6. Minus-Davor Syntax mit Kommata-Trennungen\n",
    "    1. Bereich\n",
    "      + mit Plus-Syntax oder mehreren\n",
    "      + mit all dem, was oben bereits genannt wurde\n",
    "    2. Zahl\n",
    "      + mit Plus-Syntax oder mehreren\n",
    "      + mit all dem, was oben bereits genannt wurde\n",
    "  7. Kommata-Trennungen ansonsten    \n",
    "    1. mit all dem, was oben bereits genannt wurde\n",
    "  8. Vielfacher in Syntax\n",
    "    1. Mit allem bisherigem\n",
    "    2. mit v getrennt\n",
    "    3. mit v in Bereichssyntax\n",
    "2. Kombinationen mit anderen Befehlen\n",
    "3. ob es immer beides funktioniert: KurzKurzBefehl und normaler Kurzbefehl\n",
    "4. ob die Verschachtelung von Befehlen hintereinander irgendein Problem darstellt"
   ]
  },
  {
   "cell_type": "markdown",
   "id": "553ab9ce",
   "metadata": {},
   "source": [
    "## Features wohl noch hinzuzufügen\n",
    "1. Die einzel v befehl wirkung noch extra hinzufügen\n",
    "  + Dafür brauche ich dann doch wohl noch das Abfragen aus reta.py, welcher Bereich erlaubt ist"
   ]
  },
  {
   "cell_type": "markdown",
   "id": "df408838",
   "metadata": {},
   "source": [
    "## Gedanken zu Vorgehensweise des Testens\n",
    "+ Insgesamt ist eine Menge zu testen und in komplexer Verschachtelung\n",
    "+ Ich kann daher nicht damit arbeiten, dass ich Vergangenes bei Gelegenheit nur aus der History heraus greife\n",
    "+ Ich muss also das gesamte Testen dokumentieren\n",
    "\n",
    "1. Dabei dokumentiere ich Ausgabe und Eingabe.\n",
    "2. Ich mache Notizen dazu, welche Sachen dabei verwendet wurden und mit welcher Kombination und in welcher Anzahl.\n",
    "3. Das sind also 3 Sachen. Am Besten dokumentiere ich das hier drin.\n",
    " 1. Nein, Emacs ist viel mehr super für so eine Art der komplexeren Dokumentation\n",
    "\n",
    "+ Eigentlich könnte ich ein retaPrompt machen, das hier in Jupyter importiert werden kann. Das wäre nicht so schwer.\n",
    "  + Das besitzt jedoch niedrige Priorität. Ich kann eigentlich auch erst mal so testen, aber Jupyter eignet sich ansonsten sehr gut für so etwas wie Unit Testing.\n",
    "  + Also eigentlich denke ich doch, dass das ziemlich schnell zu programmieren ginge. Aber nein, ich möchte ungerne beereits etwas Neues anfangen, während ich gerade dabei bin, etwas zu programmieren oder zu debuggen.\n",
    "    + Ich muss mir aber überlegen, ob das jetzt dann eventuell doch eine Zeitersparnis darstellt: Naja nicht so sehr unbedingt, ein wenig: Fraglich, ob sich das hier rechtfertigt.\n",
    "  + Nein, ich sollte besser eine gute Tabellenausgabe für Jupyter programmieren: Das dauert dann doch ein wenig mehr - nicht super lange, aber da muss dann doch noch was dafür programmiert werden.\n"
   ]
  }
 ],
 "metadata": {
  "kernelspec": {
   "display_name": "Python 3 (ipykernel)",
   "language": "python",
   "name": "python3"
  },
  "language_info": {
   "codemirror_mode": {
    "name": "ipython",
    "version": 3
   },
   "file_extension": ".py",
   "mimetype": "text/x-python",
   "name": "python",
   "nbconvert_exporter": "python",
   "pygments_lexer": "ipython3",
   "version": "3.10.10"
  }
 },
 "nbformat": 4,
 "nbformat_minor": 5
}
