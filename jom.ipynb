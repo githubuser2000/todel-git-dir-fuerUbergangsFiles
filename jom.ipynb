{
 "cells": [
  {
   "cell_type": "code",
   "execution_count": 1,
   "id": "ee4243a1",
   "metadata": {},
   "outputs": [],
   "source": [
    " from bruch4reta import bruchSpalt"
   ]
  },
  {
   "cell_type": "code",
   "execution_count": 2,
   "id": "d3269d3b",
   "metadata": {},
   "outputs": [
    {
     "data": {
      "text/plain": [
       "[(), ('1', '2'), ()]"
      ]
     },
     "execution_count": 2,
     "metadata": {},
     "output_type": "execute_result"
    }
   ],
   "source": [
    "bruchSpalt(\"1/2\")"
   ]
  },
  {
   "cell_type": "code",
   "execution_count": 3,
   "id": "ae8aa7ff",
   "metadata": {},
   "outputs": [
    {
     "data": {
      "text/plain": [
       "[('a',), ('1', '2'), ()]"
      ]
     },
     "execution_count": 3,
     "metadata": {},
     "output_type": "execute_result"
    }
   ],
   "source": [
    "bruchSpalt(\"a1/2\")"
   ]
  },
  {
   "cell_type": "code",
   "execution_count": 4,
   "id": "4933314a",
   "metadata": {},
   "outputs": [
    {
     "data": {
      "text/plain": [
       "[(), ('1', '2'), ('b',)]"
      ]
     },
     "execution_count": 4,
     "metadata": {},
     "output_type": "execute_result"
    }
   ],
   "source": [
    "bruchSpalt(\"1/2b\")"
   ]
  },
  {
   "cell_type": "code",
   "execution_count": 5,
   "id": "8c3ced67",
   "metadata": {},
   "outputs": [
    {
     "data": {
      "text/plain": [
       "[('a', 'b'), ('1', '2'), ('c', 'd')]"
      ]
     },
     "execution_count": 5,
     "metadata": {},
     "output_type": "execute_result"
    }
   ],
   "source": [
    "bruchSpalt(\"ab1/2cd\")"
   ]
  },
  {
   "cell_type": "code",
   "execution_count": 6,
   "id": "3cf9fa97",
   "metadata": {},
   "outputs": [
    {
     "data": {
      "text/plain": [
       "[(), ('1', '2'), ('a',), ('3', '4'), ()]"
      ]
     },
     "execution_count": 6,
     "metadata": {},
     "output_type": "execute_result"
    }
   ],
   "source": [
    "bruchSpalt(\"1/2a3/4\")"
   ]
  },
  {
   "cell_type": "code",
   "execution_count": 7,
   "id": "c87b93e1",
   "metadata": {},
   "outputs": [
    {
     "data": {
      "text/plain": [
       "[('a',), ('1', '2'), ('b',), ('3', '4'), ()]"
      ]
     },
     "execution_count": 7,
     "metadata": {},
     "output_type": "execute_result"
    }
   ],
   "source": [
    "bruchSpalt(\"a1/2b3/4\")"
   ]
  },
  {
   "cell_type": "code",
   "execution_count": 8,
   "id": "6afcaea1",
   "metadata": {},
   "outputs": [
    {
     "data": {
      "text/plain": [
       "[('a',), ('1', '2'), ('b',), ('3', '4'), ('c',)]"
      ]
     },
     "execution_count": 8,
     "metadata": {},
     "output_type": "execute_result"
    }
   ],
   "source": [
    "bruchSpalt(\"a1/2b3/4c\")"
   ]
  },
  {
   "cell_type": "code",
   "execution_count": 9,
   "id": "20f7fb73",
   "metadata": {},
   "outputs": [
    {
     "data": {
      "text/plain": [
       "[(), ('1', '2'), ('b',), ('3', '4'), ('c',)]"
      ]
     },
     "execution_count": 9,
     "metadata": {},
     "output_type": "execute_result"
    }
   ],
   "source": [
    "bruchSpalt(\"1/2b3/4c\")"
   ]
  },
  {
   "cell_type": "code",
   "execution_count": 10,
   "id": "7a061ef7",
   "metadata": {},
   "outputs": [
    {
     "data": {
      "text/plain": [
       "[]"
      ]
     },
     "execution_count": 10,
     "metadata": {},
     "output_type": "execute_result"
    }
   ],
   "source": [
    "bruchSpalt(\"a1/23/4b\")"
   ]
  },
  {
   "cell_type": "code",
   "execution_count": 11,
   "id": "0834aad7",
   "metadata": {},
   "outputs": [
    {
     "data": {
      "text/plain": [
       "[]"
      ]
     },
     "execution_count": 11,
     "metadata": {},
     "output_type": "execute_result"
    }
   ],
   "source": [
    "bruchSpalt(\"a1/2b3/4c5\")"
   ]
  },
  {
   "cell_type": "code",
   "execution_count": 12,
   "id": "b0790647",
   "metadata": {},
   "outputs": [
    {
     "data": {
      "text/plain": [
       "[]"
      ]
     },
     "execution_count": 12,
     "metadata": {},
     "output_type": "execute_result"
    }
   ],
   "source": [
    "bruchSpalt(\"2\")"
   ]
  },
  {
   "cell_type": "code",
   "execution_count": 13,
   "id": "808b2456",
   "metadata": {},
   "outputs": [
    {
     "data": {
      "text/plain": [
       "[(), ('1', '2'), ('b',), ('3', '4'), ('c',)]"
      ]
     },
     "execution_count": 13,
     "metadata": {},
     "output_type": "execute_result"
    }
   ],
   "source": [
    "bruchSpalt(\"1/2b3/4c\")"
   ]
  },
  {
   "cell_type": "code",
   "execution_count": 14,
   "id": "4d80e3e0",
   "metadata": {},
   "outputs": [
    {
     "data": {
      "text/plain": [
       "[(), ('1', '2'), ('b',), ('3', '4'), ('c',), ('5', '6'), ()]"
      ]
     },
     "execution_count": 14,
     "metadata": {},
     "output_type": "execute_result"
    }
   ],
   "source": [
    "bruchSpalt(\"1/2b3/4c5/6\")"
   ]
  },
  {
   "cell_type": "code",
   "execution_count": 15,
   "id": "712ea9b0",
   "metadata": {},
   "outputs": [
    {
     "data": {
      "text/plain": [
       "[('a',), ('1', '2'), ('b',), ('3', '4'), ('c',), ('5', '6'), ()]"
      ]
     },
     "execution_count": 15,
     "metadata": {},
     "output_type": "execute_result"
    }
   ],
   "source": [
    "bruchSpalt(\"a1/2b3/4c5/6\")"
   ]
  },
  {
   "cell_type": "code",
   "execution_count": 16,
   "id": "e98c0bd9",
   "metadata": {},
   "outputs": [
    {
     "data": {
      "text/plain": [
       "[(), ('1', '2'), ('b',), ('3', '4'), ('c',), ('5', '6'), ('d',)]"
      ]
     },
     "execution_count": 16,
     "metadata": {},
     "output_type": "execute_result"
    }
   ],
   "source": [
    "bruchSpalt(\"1/2b3/4c5/6d\")"
   ]
  },
  {
   "cell_type": "code",
   "execution_count": 17,
   "id": "f632955b",
   "metadata": {},
   "outputs": [
    {
     "data": {
      "text/plain": [
       "[('a', 'x'),\n",
       " ('1', '2'),\n",
       " ('b', 'x'),\n",
       " ('3', '4'),\n",
       " ('c', 'x'),\n",
       " ('5', '6'),\n",
       " ('d', 'x')]"
      ]
     },
     "execution_count": 17,
     "metadata": {},
     "output_type": "execute_result"
    }
   ],
   "source": [
    "bruchSpalt(\"ax1/2bx3/4cx5/6dx\")"
   ]
  },
  {
   "cell_type": "markdown",
   "id": "86f42294",
   "metadata": {},
   "source": [
    "## Was als nächstes programmiert werden sollte\n",
    "1. Als nächstes steht Funktion an: createRangesForBruchLists\n",
    "   1. Dort werden aus dem Ergebnis von bruchSpalt die Brüche entnommen und von diesen Ranges gebildet.\n",
    "       Das soll aber nur geschehen, wenn zwischen diesen Brüchen als Textzeichen ein Zeichen war, und zwar ein Minus.\n",
    "   2. Das Ergebnis soll mit den bisherigen Textwert zu mehreren neuen Textwerten zusammengefügt werden. Wie?\n",
    "       Es entstehen daraus ja nun 2 Ranges und bilden ein Quadrat.\n",
    "       Eine Range, die nach unten geht, wird verwendet um aus der einen Ursprungszeile mehrere zu machen.\n",
    "       Die andere Range wird als bloßer Text als Range geprintet.\n",
    "       Beispiel: aus \"a1/2-3/4b\" wird 1:\"a2-4b\",2:\"a2-4b\",3:\"a2-4b\"\n",
    "       Damit ist das nicht mehr eine Liste aus Tupeln, sondern eine Liste aus Strings\n",
    "2. Eine neue Funktion wird dann dazu verwendet, dass diese Strings auf einen regex und mehr verifiziert werden.\n",
    "   Das sollte dann wohl besser im Feature Branch von ReTa implementiert werden.\n",
    "3. In ReTa sollte aus reta.py abgegriffen werden, welcher Zahlenbereich erlaubt ist für die Abfrage von Brüchen\n",
    "   In diesem Zahlenbereich sollte von 2:\"a2-4b\" die 2 liegen.\n",
    "   Dafür sollte eine Funktion programmiert werden, die das verifiziert.\n",
    "4. In ReTa-Prompt soll man nun einen Bereich eingeben können von nicht nur Ganz-Zahlen, sondern von diesem Bruch, also etwas verwirrend komplexes.\n",
    "   1. Dann wird das als solches erkannt und der Funktion bruchSpalt übergeben.\n",
    "   2. Wenn die Funktion bruchSpalt das verwerten kann, dann macht createRangesForBruchLists daraus mehrere Strings, die verifiziert werden.\n",
    "   3. Dann gibt es eine Liste aus Paaren mit Bereichsangabe und einer Zahl.\n",
    "      Diese werden verwertet in einem ReTa Befehl, der Bruchbereiche ausgibt.\n",
    "      fertig."
   ]
  }
 ],
 "metadata": {
  "kernelspec": {
   "display_name": "Python 3 (ipykernel)",
   "language": "python",
   "name": "python3"
  },
  "language_info": {
   "codemirror_mode": {
    "name": "ipython",
    "version": 3
   },
   "file_extension": ".py",
   "mimetype": "text/x-python",
   "name": "python",
   "nbconvert_exporter": "python",
   "pygments_lexer": "ipython3",
   "version": "3.10.10"
  }
 },
 "nbformat": 4,
 "nbformat_minor": 5
}
